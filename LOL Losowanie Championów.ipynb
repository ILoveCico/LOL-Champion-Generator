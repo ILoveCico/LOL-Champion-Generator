{
 "cells": [
  {
   "cell_type": "code",
   "execution_count": 44,
   "id": "b97ae69c",
   "metadata": {},
   "outputs": [],
   "source": [
    "import json\n",
    "import pandas as pd\n",
    "from datetime import date, timedelta"
   ]
  },
  {
   "cell_type": "code",
   "execution_count": 45,
   "id": "f11f4ebd",
   "metadata": {},
   "outputs": [],
   "source": [
    "# Define the year you want to loop through\n",
    "year = 2025\n",
    "start_date = date(year, 1, 1)\n",
    "end_date = date(year, 12, 31)\n",
    "\n",
    "with open('champion.json', 'r') as file:\n",
    "    data = json.load(file)\n",
    "\n",
    "champion_names = pd.DataFrame(data['data'].keys())"
   ]
  },
  {
   "cell_type": "code",
   "execution_count": 40,
   "id": "d1ec94de",
   "metadata": {},
   "outputs": [
    {
     "data": {
      "text/plain": [
       "'Team B: Thresh, Vi, Ryze, Swain, MonkeyKing, Tristana, Yorick, Gangplank, Gragas, Singed, Senna, Shen, Gnar, Nunu, Sona, Naafiri, Olaf, Teemo, Poppy, Veigar'"
      ]
     },
     "execution_count": 40,
     "metadata": {},
     "output_type": "execute_result"
    }
   ],
   "source": [
    "current_date = start_date\n",
    "with open('random_champions_cico_2025.txt', 'w') as file:\n",
    "    while current_date <= end_date:\n",
    "        file.write(\"========================================\" + '\\n')\n",
    "        file.write(str(current_date)+ '\\n')\n",
    "        count = 0\n",
    "        while count < 10:\n",
    "            file.write(\"----------------------------------------\" + '\\n')\n",
    "            file.write(f\"Game {count + 1}\"+ '\\n')\n",
    "            champion_names_a = champion_names.sample(n=20)\n",
    "            champion_names_b = champion_names.sample(n=20)\n",
    "            file.write(\"Team A: \" + \", \".join(champion_names_a.values.flatten()) + '\\n')\n",
    "            file.write(\"Team B: \" + \", \".join(champion_names_b.values.flatten()) + '\\n')\n",
    "            count += 1\n",
    "            file.write(\"----------------------------------------\" + '\\n')\n",
    "        current_date += timedelta(days=1)"
   ]
  },
  {
   "cell_type": "code",
   "execution_count": 57,
   "id": "76032ecc",
   "metadata": {},
   "outputs": [],
   "source": []
  },
  {
   "cell_type": "code",
   "execution_count": null,
   "id": "84fb1dcf",
   "metadata": {},
   "outputs": [],
   "source": []
  }
 ],
 "metadata": {
  "kernelspec": {
   "display_name": "Python 3 (ipykernel)",
   "language": "python",
   "name": "python3"
  },
  "language_info": {
   "codemirror_mode": {
    "name": "ipython",
    "version": 3
   },
   "file_extension": ".py",
   "mimetype": "text/x-python",
   "name": "python",
   "nbconvert_exporter": "python",
   "pygments_lexer": "ipython3",
   "version": "3.11.5"
  }
 },
 "nbformat": 4,
 "nbformat_minor": 5
}
